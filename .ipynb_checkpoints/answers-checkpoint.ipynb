{
 "cells": [
  {
   "cell_type": "markdown",
   "metadata": {},
   "source": [
    "<h> For this project you will visualize time series data using a line chart, bar chart, and box plots. You will use Pandas, Matplotlib, and Seaborn to visualize a dataset containing the number of page views each day on the freeCodeCamp.org forum from 2016-05-09 to 2019-12-03. The data visualizations will help you understand the patterns in visits and identify yearly and monthly growth. <h>"
   ]
  },
  {
   "cell_type": "code",
   "execution_count": null,
   "metadata": {},
   "outputs": [],
   "source": [
    "#importing packages\n",
    "import pandas as pd\n",
    "import matplotlib.pyplot as plt\n",
    "import seaborn as sns\n",
    "import numpy as np"
   ]
  },
  {
   "cell_type": "code",
   "execution_count": null,
   "metadata": {},
   "outputs": [],
   "source": [
    "#reading the csv file\n",
    "df = pd.read_csv('fcc-forum-pageviews.csv')"
   ]
  },
  {
   "cell_type": "code",
   "execution_count": null,
   "metadata": {},
   "outputs": [],
   "source": [
    "#changing the date to a datetime\n",
    "df['date']=pd.to_datetime(df['date'])"
   ]
  },
  {
   "cell_type": "markdown",
   "metadata": {
    "jupyter": {
     "source_hidden": true
    }
   },
   "source": [
    "<h>Clean the data by filtering out days when the page views were in the top 2.5% of the dataset or bottom 2.5% of the dataset.<h>"
   ]
  },
  {
   "cell_type": "code",
   "execution_count": null,
   "metadata": {},
   "outputs": [],
   "source": [
    "df.head()"
   ]
  },
  {
   "cell_type": "code",
   "execution_count": null,
   "metadata": {},
   "outputs": [],
   "source": [
    "#filtering for the dataframe: \n",
    "filt_df = df.loc[:, df.columns != 'date']\n",
    "filt_df.head(5)"
   ]
  },
  {
   "cell_type": "code",
   "execution_count": null,
   "metadata": {},
   "outputs": [],
   "source": [
    "#getting the low and high at the values of 2.5 and 97.5 percent.\n",
    "low = .025\n",
    "high = .975\n",
    "quant_df = df.quantile([low,high])\n",
    "print(quant_df)\n"
   ]
  },
  {
   "cell_type": "code",
   "execution_count": null,
   "metadata": {},
   "outputs": [],
   "source": [
    "filt_df = filt_df.apply(lambda x: x[(x>quant_df.loc[low,x.name]) & \n",
    "                                    (x < quant_df.loc[high,x.name])], axis=0)"
   ]
  },
  {
   "cell_type": "code",
   "execution_count": null,
   "metadata": {},
   "outputs": [],
   "source": [
    "filt_df.head()"
   ]
  },
  {
   "cell_type": "code",
   "execution_count": null,
   "metadata": {},
   "outputs": [],
   "source": [
    "filt_df = filt_df.dropna()\n",
    "filt_df.head()"
   ]
  },
  {
   "cell_type": "code",
   "execution_count": null,
   "metadata": {},
   "outputs": [],
   "source": [
    "filt_df = pd.concat([df.loc[:,'date'], filt_df], axis=1)"
   ]
  },
  {
   "cell_type": "code",
   "execution_count": null,
   "metadata": {},
   "outputs": [],
   "source": [
    "filt_df.head()"
   ]
  },
  {
   "cell_type": "code",
   "execution_count": null,
   "metadata": {},
   "outputs": [],
   "source": [
    "print(filt_df.describe())"
   ]
  },
  {
   "cell_type": "markdown",
   "metadata": {},
   "source": [
    "<h>Create a draw_line_plot function that uses Matplotlib to draw a line chart similar to \"examples/Figure_1.png\". The title should be \"Daily freeCodeCamp Forum Page Views 5/2016-12/2019\". The label on the x axis should be \"Date\" and the label on the y axis should be \"Page Views\".<h>"
   ]
  },
  {
   "cell_type": "code",
   "execution_count": null,
   "metadata": {},
   "outputs": [],
   "source": [
    "df.plot(x='date',y='value')"
   ]
  },
  {
   "cell_type": "markdown",
   "metadata": {},
   "source": [
    "<h1>Create a draw_bar_plot function that draws a bar chart similar to \"examples/Figure_2.png\". It should show average daily page views for each month grouped by year. The legend should show month labels and have a title of \"Months\". On the chart, the label on the x axis should be \"Years\" and the label on the y axis should be \"Average Page Views\".<h1>"
   ]
  },
  {
   "cell_type": "code",
   "execution_count": null,
   "metadata": {},
   "outputs": [],
   "source": []
  },
  {
   "cell_type": "code",
   "execution_count": null,
   "metadata": {},
   "outputs": [],
   "source": [
    "filt_df.resample('D',on = 'date').mean()\n"
   ]
  },
  {
   "cell_type": "code",
   "execution_count": null,
   "metadata": {},
   "outputs": [],
   "source": [
    "\n",
    "df2 = df.groupby([df.date.dt.day, df.date.dt.month]).mean().unstack()\n",
    "df2.columns = df2.columns.droplevel()\n",
    "df2.plot.bar()\n",
    "plt.xlabel('dates')\n",
    "plt.ylabel('avg page views')\n",
    "plt.show()"
   ]
  },
  {
   "cell_type": "code",
   "execution_count": null,
   "metadata": {},
   "outputs": [],
   "source": []
  },
  {
   "cell_type": "markdown",
   "metadata": {},
   "source": [
    "<h1>Create a draw_box_plot function that uses Searborn to draw two adjacent box plots similar to \"examples/Figure_3.png\". These box plots should show how the values are distributed within a given year or month and how it compares over time. The title of the first chart should be \"Year-wise Box Plot (Trend)\" and the title of the second chart should be \"Month-wise Box Plot (Seasonality)\". Make sure the month labels on bottom start at \"Jan\" and the x and x axis are labeled correctly.<h1>"
   ]
  },
  {
   "cell_type": "code",
   "execution_count": null,
   "metadata": {},
   "outputs": [],
   "source": [
    "df.head()\n"
   ]
  },
  {
   "cell_type": "code",
   "execution_count": null,
   "metadata": {},
   "outputs": [],
   "source": [
    "df.tail()\n"
   ]
  },
  {
   "cell_type": "code",
   "execution_count": null,
   "metadata": {},
   "outputs": [],
   "source": [
    "plt.figure(figsize=(10, 8))\n",
    "# make boxplot with Seaborn\n",
    "sns.boxplot(x=\"date\", y=\"value\", data=df)\n",
    "# Set labels and title\n",
    "plt.ylabel(\"page views\", size=14)\n",
    "plt.xlabel(\"month\", size=14)\n",
    "plt.title(\"box plot trend\", size=18)\n",
    "plt.savefig(\"boxplot.png\")"
   ]
  },
  {
   "cell_type": "code",
   "execution_count": null,
   "metadata": {},
   "outputs": [],
   "source": [
    "df=pd.DataFrame(np.random.randint(50,1000,365).reshape(-1,1),\n",
    "                index=pd.date_range('2016-05-09','2020-01-01',freq='D'),\n",
    "                columns=['value'])\n",
    "df.reset_index(inplace=True)\n",
    "df.columns = ['date','value']\n",
    "df.head()"
   ]
  },
  {
   "cell_type": "code",
   "execution_count": null,
   "metadata": {},
   "outputs": [],
   "source": []
  },
  {
   "cell_type": "code",
   "execution_count": null,
   "metadata": {},
   "outputs": [],
   "source": [
    "df_box = pd.DataFrame(df)\n",
    "df_box['Year'] = df['date'].dt.year\n",
    "df_box['Month'] = df['date'].dt.month\n",
    "df_box.loc[df_box['Month'] == 1, 'Month'] = \"Jan\"\n",
    "df_box.loc[df_box['Month'] == 2, 'Month'] = \"Feb\"\n",
    "df_box.loc[df_box['Month'] == 3, 'Month'] = \"Mar\"\n",
    "df_box.loc[df_box['Month'] == 4, 'Month'] = \"Apr\"\n",
    "df_box.loc[df_box['Month'] == 5, 'Month'] = \"May\"\n",
    "df_box.loc[df_box['Month'] == 6, 'Month'] = \"Jun\"\n",
    "df_box.loc[df_box['Month'] == 7, 'Month'] = \"Jul\"\n",
    "df_box.loc[df_box['Month'] == 8, 'Month'] = \"Aug\"\n",
    "df_box.loc[df_box['Month'] == 9, 'Month'] = \"Sep\"\n",
    "df_box.loc[df_box['Month'] == 10, 'Month'] = \"Oct\"\n",
    "df_box.loc[df_box['Month'] == 11, 'Month'] = \"Nov\"\n",
    "df_box.loc[df_box['Month'] == 12, 'Month'] = \"Dec\"\n",
    "\n",
    "\n",
    "    # Draw box plots (using Seaborn)\n",
    "fig, axes = plt.subplots(figsize=(20, 5), ncols=2, sharex=False)\n",
    "sns.despine(left=True)\n",
    "\n",
    "box_plot_year = sns.boxplot(x=df_box['Year'], y=df_box.value, ax=axes[0])\n",
    "box_plot_year.set_title(\"Year-wise Box Plot (Trend)\")\n",
    "box_plot_year.set_xlabel('Year') \n",
    "box_plot_year.set_ylabel('Page Views')\n",
    "\n",
    "box_plot_month = sns.boxplot(x=df_box['Month'], y=df_box.value, ax=axes[1])\n",
    "box_plot_month.set_title(\"Month-wise Box Plot (Seasonality)\")\n",
    "box_plot_month.set_xlabel('Month')\n",
    "box_plot_month.set_ylabel('Page Views')   \n",
    "    \n",
    "    # Save image and return fig (don't change this part)\n",
    "fig.savefig('box_plot.png')\n",
    "return fig"
   ]
  },
  {
   "cell_type": "code",
   "execution_count": null,
   "metadata": {},
   "outputs": [],
   "source": []
  },
  {
   "cell_type": "code",
   "execution_count": null,
   "metadata": {},
   "outputs": [],
   "source": []
  },
  {
   "cell_type": "code",
   "execution_count": null,
   "metadata": {},
   "outputs": [],
   "source": [
    "|"
   ]
  }
 ],
 "metadata": {
  "kernelspec": {
   "display_name": "Python 3",
   "language": "python",
   "name": "python3"
  },
  "language_info": {
   "codemirror_mode": {
    "name": "ipython",
    "version": 3
   },
   "file_extension": ".py",
   "mimetype": "text/x-python",
   "name": "python",
   "nbconvert_exporter": "python",
   "pygments_lexer": "ipython3",
   "version": "3.7.6"
  }
 },
 "nbformat": 4,
 "nbformat_minor": 4
}
